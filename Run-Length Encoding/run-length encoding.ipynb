{
 "cells": [
  {
   "cell_type": "markdown",
   "metadata": {},
   "source": [
    "**Step 1:** Using the magic command, create a module **sequenceprop.py** containing a function **sequence_prop_30( )**"
   ]
  },
  {
   "cell_type": "code",
   "execution_count": null,
   "metadata": {},
   "outputs": [
    {
     "name": "stdout",
     "output_type": "stream",
     "text": [
      "Overwriting sequenceprop.py\n"
     ]
    }
   ],
   "source": [
    "%%writefile sequenceprop.py \n",
    "\n",
    "class SequenceProcessor:\n",
    "    '''Handles the iterative transformation of sequences using Run-Length Encoding.'''\n",
    "    def __init__(self, sequence):\n",
    "        self.sequence = str(sequence)\n",
    "\n",
    "    def run_length_encode(self):\n",
    "        '''Encodes the current sequence using Run-Length Encoding.'''\n",
    "        encoded = []\n",
    "        current_digit = self.sequence[0]  # This fixes the bug in previous attempts\n",
    "        count = 1\n",
    "\n",
    "        # Iterate through the sequence to group digits\n",
    "        for i in range(1, len(self.sequence)):\n",
    "            if self.sequence[i] == current_digit:\n",
    "                count += 1\n",
    "            else:\n",
    "                # Append the count and digit to the encoded result\n",
    "                encoded.append(str(count))\n",
    "                encoded.append(current_digit)\n",
    "                current_digit = self.sequence[i]\n",
    "                count = 1\n",
    "\n",
    "        # Append the last group\n",
    "        encoded.append(str(count))\n",
    "        encoded.append(current_digit)\n",
    "\n",
    "        # Update the sequence with the new encoded string\n",
    "        self.sequence = ''.join(encoded)\n",
    "\n",
    "    def process(self, steps):\n",
    "        '''Applies the RLE transformation iteratively for a given number of steps.'''\n",
    "        for _ in range(steps):\n",
    "            self.run_length_encode()\n",
    "\n",
    "    def get_length(self):\n",
    "        '''Returns the length of the current sequence.'''\n",
    "        return len(self.sequence)\n",
    "\n",
    "\n",
    "def sequence_prop_30(initial_sequence):\n",
    "    '''Creates a SequenceProcessor instance and performs RLE for 30 steps.'''\n",
    "    processor = SequenceProcessor(initial_sequence)\n",
    "    processor.process(30)\n",
    "    return processor.get_length()\n"
   ]
  },
  {
   "cell_type": "markdown",
   "metadata": {},
   "source": [
    "**STEP 2:** For practice, test the Script to see whether the output is correct"
   ]
  },
  {
   "cell_type": "code",
   "execution_count": 21,
   "metadata": {},
   "outputs": [
    {
     "name": "stdout",
     "output_type": "stream",
     "text": [
      "6786\n",
      "5808\n",
      "10516\n",
      "26358\n"
     ]
    }
   ],
   "source": [
    "from sequenceprop import sequence_prop_30\n",
    "\n",
    "# Test cases\n",
    "print(sequence_prop_30(522))     # Test case 1: Example from the Problem\n",
    "print(sequence_prop_30(1))       # Test Case 2: Single digit\n",
    "print(sequence_prop_30(111))     # Test Case 3: Repeated digits\n",
    "print(sequence_prop_30(121212))  # Test Case 4: Alternating digits\n"
   ]
  }
 ],
 "metadata": {
  "kernelspec": {
   "display_name": "Python 3",
   "language": "python",
   "name": "python3"
  },
  "language_info": {
   "codemirror_mode": {
    "name": "ipython",
    "version": 3
   },
   "file_extension": ".py",
   "mimetype": "text/x-python",
   "name": "python",
   "nbconvert_exporter": "python",
   "pygments_lexer": "ipython3",
   "version": "3.12.3"
  }
 },
 "nbformat": 4,
 "nbformat_minor": 2
}
